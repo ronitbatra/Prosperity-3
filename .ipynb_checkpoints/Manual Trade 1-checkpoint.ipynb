{
 "cells": [
  {
   "cell_type": "code",
   "execution_count": 1,
   "id": "f3b7e580-2944-468b-8941-4efed2ecdf62",
   "metadata": {},
   "outputs": [
    {
     "name": "stdout",
     "output_type": "stream",
     "text": [
      "Maximum SeaShells after 5 trades = 544.340160\n",
      "Trade path (currencies in order):\n",
      "S -> N -> Si -> P -> N -> S\n"
     ]
    }
   ],
   "source": [
    "# We have 4 currencies: SeaShells (S), Snowballs (N), Pizzas (P), Silicon Nuggets (Si).\n",
    "# The table is given as \"from -> to\" exchange rates, e.g. matrix[from][to].\n",
    "\n",
    "exchange_rates = {\n",
    "    'S': {'S': 1.00, 'N': 1.34, 'P': 1.98, 'Si': 0.64},\n",
    "    'N': {'S': 0.72, 'N': 1.00, 'P': 1.45, 'Si': 0.52},\n",
    "    'P': {'S': 0.48, 'N': 0.70, 'P': 1.00, 'Si': 0.31},\n",
    "    'Si': {'S': 1.49, 'N': 1.95, 'P': 3.10, 'Si': 1.00}\n",
    "}\n",
    "\n",
    "currencies = ['S', 'N', 'P', 'Si']\n",
    "\n",
    "# Number of trades we are allowed to make\n",
    "NUM_TRADES = 5\n",
    "\n",
    "# dp[t][cur] will store the *best amount* of currency 'cur' we can have\n",
    "# after exactly t trades (starting from 1 SeaShell).\n",
    "dp = [dict() for _ in range(NUM_TRADES+1)]\n",
    "\n",
    "# parent[t][cur] will store which currency we traded *from* to get\n",
    "# the optimal amount dp[t][cur], so we can reconstruct the path.\n",
    "parent = [dict() for _ in range(NUM_TRADES+1)]\n",
    "\n",
    "# Initialize: at time t=0, we have 1 SeaShell, 0 of everything else\n",
    "for c in currencies:\n",
    "    dp[0][c] = 0.0\n",
    "dp[0]['S'] = 500.0   # start with 1 SeaShell\n",
    "\n",
    "# Fill in DP table\n",
    "for t in range(1, NUM_TRADES+1):\n",
    "    for cur in currencies:\n",
    "        best_val = 0.0\n",
    "        best_from = None\n",
    "        # We can come from any currency 'prev' at trade t-1\n",
    "        for prev in currencies:\n",
    "            val = dp[t-1][prev] * exchange_rates[prev][cur]\n",
    "            if val > best_val:\n",
    "                best_val = val\n",
    "                best_from = prev\n",
    "        dp[t][cur] = best_val\n",
    "        parent[t][cur] = best_from\n",
    "\n",
    "# We want to end on SeaShells after exactly NUM_TRADES trades\n",
    "best_amount = dp[NUM_TRADES]['S']\n",
    "\n",
    "# Reconstruct the path backwards\n",
    "path = ['S']\n",
    "cur = 'S'\n",
    "t = NUM_TRADES\n",
    "while t > 0:\n",
    "    prev = parent[t][cur]\n",
    "    path.append(prev)\n",
    "    cur = prev\n",
    "    t -= 1\n",
    "\n",
    "path.reverse()  # Because we built it backwards\n",
    "\n",
    "print(f\"Maximum SeaShells after {NUM_TRADES} trades = {best_amount:.6f}\")\n",
    "print(\"Trade path (currencies in order):\")\n",
    "print(\" -> \".join(path))\n"
   ]
  },
  {
   "cell_type": "code",
   "execution_count": null,
   "id": "bc482d6c-ce48-4cf8-9080-a77eb685fbcd",
   "metadata": {},
   "outputs": [],
   "source": []
  }
 ],
 "metadata": {
  "kernelspec": {
   "display_name": "Python 3 (ipykernel)",
   "language": "python",
   "name": "python3"
  },
  "language_info": {
   "codemirror_mode": {
    "name": "ipython",
    "version": 3
   },
   "file_extension": ".py",
   "mimetype": "text/x-python",
   "name": "python",
   "nbconvert_exporter": "python",
   "pygments_lexer": "ipython3",
   "version": "3.12.1"
  }
 },
 "nbformat": 4,
 "nbformat_minor": 5
}
