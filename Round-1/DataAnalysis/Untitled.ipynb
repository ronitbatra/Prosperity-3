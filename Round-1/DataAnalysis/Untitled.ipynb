{
 "cells": [
  {
   "cell_type": "code",
   "execution_count": 32,
   "id": "a3465f6f",
   "metadata": {},
   "outputs": [],
   "source": [
    "import numpy as np\n",
    "import pandas as pd\n",
    "import matplotlib.pyplot as plt\n"
   ]
  },
  {
   "cell_type": "code",
   "execution_count": 4,
   "id": "704748df",
   "metadata": {},
   "outputs": [],
   "source": [
    "data = pd.read_csv(\"prices_round_1_day_-2.csv\", delimiter=\";\")\n",
    "trades_df = pd.read_csv(\"trades_round_1_day_-1.csv\", delimiter=\";\")"
   ]
  },
  {
   "cell_type": "code",
   "execution_count": null,
   "id": "f0d7e4ce",
   "metadata": {},
   "outputs": [],
   "source": []
  },
  {
   "cell_type": "code",
   "execution_count": 5,
   "id": "623126de",
   "metadata": {},
   "outputs": [
    {
     "name": "stdout",
     "output_type": "stream",
     "text": [
      "    timestamp  ask_volume_2  ask_price_1  buy_signal  buy_price\n",
      "2           0           NaN         2002       False        NaN\n",
      "3         100           NaN         2001       False        NaN\n",
      "7         200          30.0         2000        True     2000.0\n",
      "11        300           NaN         2000       False        NaN\n",
      "14        400           NaN         2000       False        NaN\n"
     ]
    },
    {
     "name": "stderr",
     "output_type": "stream",
     "text": [
      "C:\\Users\\tzs7ch\\AppData\\Local\\Temp\\ipykernel_23912\\3811462136.py:5: SettingWithCopyWarning: \n",
      "A value is trying to be set on a copy of a slice from a DataFrame.\n",
      "Try using .loc[row_indexer,col_indexer] = value instead\n",
      "\n",
      "See the caveats in the documentation: https://pandas.pydata.org/pandas-docs/stable/user_guide/indexing.html#returning-a-view-versus-a-copy\n",
      "  squid_ink_data['buy_signal'] = squid_ink_data['ask_volume_2'] > 15\n",
      "C:\\Users\\tzs7ch\\AppData\\Local\\Temp\\ipykernel_23912\\3811462136.py:8: SettingWithCopyWarning: \n",
      "A value is trying to be set on a copy of a slice from a DataFrame.\n",
      "Try using .loc[row_indexer,col_indexer] = value instead\n",
      "\n",
      "See the caveats in the documentation: https://pandas.pydata.org/pandas-docs/stable/user_guide/indexing.html#returning-a-view-versus-a-copy\n",
      "  squid_ink_data['buy_price'] = squid_ink_data['ask_price_1'].where(squid_ink_data['buy_signal'], None)\n"
     ]
    }
   ],
   "source": [
    "# Filter for SQUID_INK\n",
    "squid_ink_data = data[data['product'] == 'SQUID_INK']\n",
    "\n",
    "# Check where ask_volume_2 > 15\n",
    "squid_ink_data['buy_signal'] = squid_ink_data['ask_volume_2'] > 15\n",
    "\n",
    "# Buy at ask_price_1 when buy_signal is True\n",
    "squid_ink_data['buy_price'] = squid_ink_data['ask_price_1'].where(squid_ink_data['buy_signal'], None)\n",
    "\n",
    "# Check the first few rows of the result\n",
    "print(squid_ink_data[['timestamp', 'ask_volume_2', 'ask_price_1', 'buy_signal', 'buy_price']].head())\n"
   ]
  },
  {
   "cell_type": "code",
   "execution_count": 6,
   "id": "694eeeec",
   "metadata": {},
   "outputs": [
    {
     "name": "stdout",
     "output_type": "stream",
     "text": [
      "    timestamp  bid_volume_2  bid_price_1  sell_signal  sell_price\n",
      "2           0           NaN         1998        False         NaN\n",
      "3         100          26.0         1999         True      1999.0\n",
      "7         200           NaN         1997        False         NaN\n",
      "11        300           NaN         1997        False         NaN\n",
      "14        400           NaN         1996        False         NaN\n"
     ]
    },
    {
     "name": "stderr",
     "output_type": "stream",
     "text": [
      "C:\\Users\\tzs7ch\\AppData\\Local\\Temp\\ipykernel_23912\\1626359769.py:2: SettingWithCopyWarning: \n",
      "A value is trying to be set on a copy of a slice from a DataFrame.\n",
      "Try using .loc[row_indexer,col_indexer] = value instead\n",
      "\n",
      "See the caveats in the documentation: https://pandas.pydata.org/pandas-docs/stable/user_guide/indexing.html#returning-a-view-versus-a-copy\n",
      "  squid_ink_data['sell_signal'] = squid_ink_data['bid_volume_2'] > 15\n",
      "C:\\Users\\tzs7ch\\AppData\\Local\\Temp\\ipykernel_23912\\1626359769.py:5: SettingWithCopyWarning: \n",
      "A value is trying to be set on a copy of a slice from a DataFrame.\n",
      "Try using .loc[row_indexer,col_indexer] = value instead\n",
      "\n",
      "See the caveats in the documentation: https://pandas.pydata.org/pandas-docs/stable/user_guide/indexing.html#returning-a-view-versus-a-copy\n",
      "  squid_ink_data['sell_price'] = squid_ink_data['bid_price_1'].where(squid_ink_data['sell_signal'], None)\n"
     ]
    }
   ],
   "source": [
    "# Check where bid_volume_2 > 15\n",
    "squid_ink_data['sell_signal'] = squid_ink_data['bid_volume_2'] > 15\n",
    "\n",
    "# Sell at bid_price_1 when sell_signal is True\n",
    "squid_ink_data['sell_price'] = squid_ink_data['bid_price_1'].where(squid_ink_data['sell_signal'], None)\n",
    "\n",
    "# Check the first few rows of the result\n",
    "print(squid_ink_data[['timestamp', 'bid_volume_2', 'bid_price_1', 'sell_signal', 'sell_price']].head())\n"
   ]
  },
  {
   "cell_type": "code",
   "execution_count": 9,
   "id": "9f78fa86",
   "metadata": {},
   "outputs": [
    {
     "name": "stdout",
     "output_type": "stream",
     "text": [
      "    timestamp  bid_volume_2  ask_volume_2  mid_price  price_change  \\\n",
      "2           0           NaN           NaN     2000.0           NaN   \n",
      "3         100          26.0           NaN     2000.0       0.00000   \n",
      "7         200           NaN          30.0     1998.5      -0.00075   \n",
      "11        300           NaN           NaN     1998.5       0.00000   \n",
      "14        400           NaN           NaN     1998.0      -0.00025   \n",
      "\n",
      "    significant_move  impact_signal  \n",
      "2              False          False  \n",
      "3              False          False  \n",
      "7              False          False  \n",
      "11             False          False  \n",
      "14             False          False  \n"
     ]
    },
    {
     "name": "stderr",
     "output_type": "stream",
     "text": [
      "C:\\Users\\tzs7ch\\AppData\\Local\\Temp\\ipykernel_23912\\2001601742.py:3: SettingWithCopyWarning: \n",
      "A value is trying to be set on a copy of a slice from a DataFrame.\n",
      "Try using .loc[row_indexer,col_indexer] = value instead\n",
      "\n",
      "See the caveats in the documentation: https://pandas.pydata.org/pandas-docs/stable/user_guide/indexing.html#returning-a-view-versus-a-copy\n",
      "  squid_ink_data['price_change'] = squid_ink_data['mid_price'].pct_change()\n",
      "C:\\Users\\tzs7ch\\AppData\\Local\\Temp\\ipykernel_23912\\2001601742.py:6: SettingWithCopyWarning: \n",
      "A value is trying to be set on a copy of a slice from a DataFrame.\n",
      "Try using .loc[row_indexer,col_indexer] = value instead\n",
      "\n",
      "See the caveats in the documentation: https://pandas.pydata.org/pandas-docs/stable/user_guide/indexing.html#returning-a-view-versus-a-copy\n",
      "  squid_ink_data['significant_move'] = squid_ink_data['price_change'].abs() > threshold\n",
      "C:\\Users\\tzs7ch\\AppData\\Local\\Temp\\ipykernel_23912\\2001601742.py:9: SettingWithCopyWarning: \n",
      "A value is trying to be set on a copy of a slice from a DataFrame.\n",
      "Try using .loc[row_indexer,col_indexer] = value instead\n",
      "\n",
      "See the caveats in the documentation: https://pandas.pydata.org/pandas-docs/stable/user_guide/indexing.html#returning-a-view-versus-a-copy\n",
      "  squid_ink_data['impact_signal'] = squid_ink_data['significant_move'] & (squid_ink_data['bid_volume_2'] > 15)\n"
     ]
    }
   ],
   "source": [
    "# Create a column that shows if the price changes significantly\n",
    "threshold = 0.05  # A 5% price movement\n",
    "squid_ink_data['price_change'] = squid_ink_data['mid_price'].pct_change()\n",
    "\n",
    "# Identify where price change is larger than the threshold (both positive and negative)\n",
    "squid_ink_data['significant_move'] = squid_ink_data['price_change'].abs() > threshold\n",
    "\n",
    "# Also check if the price change was accompanied by large bid/ask volumes\n",
    "squid_ink_data['impact_signal'] = squid_ink_data['significant_move'] & (squid_ink_data['bid_volume_2'] > 15)\n",
    "\n",
    "# Check for significant price changes with order impact\n",
    "print(squid_ink_data[['timestamp', 'bid_volume_2', 'ask_volume_2', 'mid_price', 'price_change', 'significant_move', 'impact_signal']].head())\n"
   ]
  },
  {
   "cell_type": "code",
   "execution_count": 12,
   "id": "b6d011ee",
   "metadata": {},
   "outputs": [
    {
     "name": "stdout",
     "output_type": "stream",
     "text": [
      "     timestamp  mid_price  rolling_mean  deviation  mean_reversion_signal\n",
      "2            0     2000.0           NaN        NaN                  False\n",
      "3          100     2000.0           NaN        NaN                  False\n",
      "7          200     1998.5           NaN        NaN                  False\n",
      "11         300     1998.5           NaN        NaN                  False\n",
      "14         400     1998.0           NaN        NaN                  False\n",
      "..         ...        ...           ...        ...                    ...\n",
      "285       9500     2002.5       2001.49       1.01                  False\n",
      "289       9600     2003.0       2001.55       1.45                  False\n",
      "293       9700     2002.5       2001.65       0.85                  False\n",
      "296       9800     2003.5       2001.73       1.77                  False\n",
      "297       9900     2003.0       2001.82       1.18                  False\n",
      "\n",
      "[100 rows x 5 columns]\n"
     ]
    },
    {
     "name": "stderr",
     "output_type": "stream",
     "text": [
      "C:\\Users\\tzs7ch\\AppData\\Local\\Temp\\ipykernel_23912\\3712264596.py:3: SettingWithCopyWarning: \n",
      "A value is trying to be set on a copy of a slice from a DataFrame.\n",
      "Try using .loc[row_indexer,col_indexer] = value instead\n",
      "\n",
      "See the caveats in the documentation: https://pandas.pydata.org/pandas-docs/stable/user_guide/indexing.html#returning-a-view-versus-a-copy\n",
      "  squid_ink_data['rolling_mean'] = squid_ink_data['mid_price'].rolling(window=window_size).mean()\n",
      "C:\\Users\\tzs7ch\\AppData\\Local\\Temp\\ipykernel_23912\\3712264596.py:6: SettingWithCopyWarning: \n",
      "A value is trying to be set on a copy of a slice from a DataFrame.\n",
      "Try using .loc[row_indexer,col_indexer] = value instead\n",
      "\n",
      "See the caveats in the documentation: https://pandas.pydata.org/pandas-docs/stable/user_guide/indexing.html#returning-a-view-versus-a-copy\n",
      "  squid_ink_data['deviation'] = squid_ink_data['mid_price'] - squid_ink_data['rolling_mean']\n",
      "C:\\Users\\tzs7ch\\AppData\\Local\\Temp\\ipykernel_23912\\3712264596.py:12: SettingWithCopyWarning: \n",
      "A value is trying to be set on a copy of a slice from a DataFrame.\n",
      "Try using .loc[row_indexer,col_indexer] = value instead\n",
      "\n",
      "See the caveats in the documentation: https://pandas.pydata.org/pandas-docs/stable/user_guide/indexing.html#returning-a-view-versus-a-copy\n",
      "  squid_ink_data['mean_reversion_signal'] = squid_ink_data['deviation'].abs() > threshold_deviation\n"
     ]
    }
   ],
   "source": [
    "# Calculate rolling mean of the mid price\n",
    "window_size = 50  # Use a rolling window of 50 timestamps\n",
    "squid_ink_data['rolling_mean'] = squid_ink_data['mid_price'].rolling(window=window_size).mean()\n",
    "\n",
    "# Calculate the deviation from the rolling mean\n",
    "squid_ink_data['deviation'] = squid_ink_data['mid_price'] - squid_ink_data['rolling_mean']\n",
    "\n",
    "# Identify if the deviation is more than a threshold (e.g., 2 standard deviations)\n",
    "std_dev = squid_ink_data['deviation'].std()\n",
    "threshold_deviation = 2 * std_dev\n",
    "\n",
    "squid_ink_data['mean_reversion_signal'] = squid_ink_data['deviation'].abs() > threshold_deviation\n",
    "\n",
    "# Print rows with significant deviations\n",
    "print(squid_ink_data[['timestamp', 'mid_price', 'rolling_mean', 'deviation', 'mean_reversion_signal']].head(100))"
   ]
  },
  {
   "cell_type": "code",
   "execution_count": 13,
   "id": "24960efe",
   "metadata": {},
   "outputs": [
    {
     "name": "stdout",
     "output_type": "stream",
     "text": [
      "    timestamp  price_change  rolling_corr  momentum_signal\n",
      "2           0           NaN           NaN            False\n",
      "3         100       0.00000           NaN            False\n",
      "7         200      -0.00075           NaN            False\n",
      "11        300       0.00000           NaN            False\n",
      "14        400      -0.00025           NaN            False\n"
     ]
    },
    {
     "name": "stderr",
     "output_type": "stream",
     "text": [
      "C:\\Users\\tzs7ch\\AppData\\Local\\Temp\\ipykernel_23912\\1000727404.py:2: SettingWithCopyWarning: \n",
      "A value is trying to be set on a copy of a slice from a DataFrame.\n",
      "Try using .loc[row_indexer,col_indexer] = value instead\n",
      "\n",
      "See the caveats in the documentation: https://pandas.pydata.org/pandas-docs/stable/user_guide/indexing.html#returning-a-view-versus-a-copy\n",
      "  squid_ink_data['price_change'] = squid_ink_data['mid_price'].pct_change()\n",
      "C:\\Users\\tzs7ch\\AppData\\Local\\Temp\\ipykernel_23912\\1000727404.py:4: SettingWithCopyWarning: \n",
      "A value is trying to be set on a copy of a slice from a DataFrame.\n",
      "Try using .loc[row_indexer,col_indexer] = value instead\n",
      "\n",
      "See the caveats in the documentation: https://pandas.pydata.org/pandas-docs/stable/user_guide/indexing.html#returning-a-view-versus-a-copy\n",
      "  squid_ink_data['rolling_corr'] = squid_ink_data['price_change'].rolling(window=window_size).corr(squid_ink_data['price_change'])\n",
      "C:\\Users\\tzs7ch\\AppData\\Local\\Temp\\ipykernel_23912\\1000727404.py:8: SettingWithCopyWarning: \n",
      "A value is trying to be set on a copy of a slice from a DataFrame.\n",
      "Try using .loc[row_indexer,col_indexer] = value instead\n",
      "\n",
      "See the caveats in the documentation: https://pandas.pydata.org/pandas-docs/stable/user_guide/indexing.html#returning-a-view-versus-a-copy\n",
      "  squid_ink_data['momentum_signal'] = squid_ink_data['rolling_corr'] > momentum_threshold\n"
     ]
    }
   ],
   "source": [
    "# Calculate rolling correlation between bid and ask prices\n",
    "squid_ink_data['price_change'] = squid_ink_data['mid_price'].pct_change()\n",
    "window_size = 20  # Use a 20-step window\n",
    "squid_ink_data['rolling_corr'] = squid_ink_data['price_change'].rolling(window=window_size).corr(squid_ink_data['price_change'])\n",
    "\n",
    "# Identify periods where momentum is strong (e.g., correlation > 0.8)\n",
    "momentum_threshold = 0.8\n",
    "squid_ink_data['momentum_signal'] = squid_ink_data['rolling_corr'] > momentum_threshold\n",
    "\n",
    "# Print periods of high momentum\n",
    "print(squid_ink_data[['timestamp', 'price_change', 'rolling_corr', 'momentum_signal']].head())\n"
   ]
  },
  {
   "cell_type": "code",
   "execution_count": 15,
   "id": "9cffea29",
   "metadata": {},
   "outputs": [
    {
     "name": "stdout",
     "output_type": "stream",
     "text": [
      "    timestamp  bid_ask_spread  mid_price  large_spread_signal\n",
      "2           0               4     2000.0                 True\n",
      "3         100               2     2000.0                False\n",
      "7         200               3     1998.5                False\n",
      "11        300               3     1998.5                False\n",
      "14        400               4     1998.0                 True\n"
     ]
    },
    {
     "name": "stderr",
     "output_type": "stream",
     "text": [
      "C:\\Users\\tzs7ch\\AppData\\Local\\Temp\\ipykernel_23912\\3567030646.py:2: SettingWithCopyWarning: \n",
      "A value is trying to be set on a copy of a slice from a DataFrame.\n",
      "Try using .loc[row_indexer,col_indexer] = value instead\n",
      "\n",
      "See the caveats in the documentation: https://pandas.pydata.org/pandas-docs/stable/user_guide/indexing.html#returning-a-view-versus-a-copy\n",
      "  squid_ink_data['bid_ask_spread'] = squid_ink_data['ask_price_1'] - squid_ink_data['bid_price_1']\n",
      "C:\\Users\\tzs7ch\\AppData\\Local\\Temp\\ipykernel_23912\\3567030646.py:6: SettingWithCopyWarning: \n",
      "A value is trying to be set on a copy of a slice from a DataFrame.\n",
      "Try using .loc[row_indexer,col_indexer] = value instead\n",
      "\n",
      "See the caveats in the documentation: https://pandas.pydata.org/pandas-docs/stable/user_guide/indexing.html#returning-a-view-versus-a-copy\n",
      "  squid_ink_data['large_spread_signal'] = squid_ink_data['bid_ask_spread'] > spread_threshold\n"
     ]
    }
   ],
   "source": [
    "# Calculate the bid-ask spread\n",
    "squid_ink_data['bid_ask_spread'] = squid_ink_data['ask_price_1'] - squid_ink_data['bid_price_1']\n",
    "\n",
    "# Check where the spread is above a certain threshold\n",
    "spread_threshold = 3  # Adjust this based on your data scale\n",
    "squid_ink_data['large_spread_signal'] = squid_ink_data['bid_ask_spread'] > spread_threshold\n",
    "\n",
    "# Check if there is a large spread and whether it correlates with price movement\n",
    "print(squid_ink_data[['timestamp', 'bid_ask_spread', 'mid_price', 'large_spread_signal']].head())\n"
   ]
  },
  {
   "cell_type": "code",
   "execution_count": 23,
   "id": "387fcebe",
   "metadata": {},
   "outputs": [],
   "source": [
    "# Function for Liquidity Imbalance Detection (Volume Pattern)\n",
    "def liquidity_imbalance(data, volume_threshold=15):\n",
    "    # Detects when ask_volume_2 > threshold, and bid_volume_2 < threshold\n",
    "    buy_signal = data['ask_volume_2'] > volume_threshold\n",
    "    sell_signal = data['bid_volume_2'] > volume_threshold\n",
    "    \n",
    "    return buy_signal, sell_signal\n",
    "\n",
    "# Function for Price Impact Detection (Significant Price Movement)\n",
    "def price_impact(data, threshold=0.05):\n",
    "    data['price_change'] = data['mid_price'].pct_change()\n",
    "    significant_move = data['price_change'].abs() > threshold\n",
    "    return significant_move\n",
    "\n",
    "# Function for Mean Reversion (Price Reversion)\n",
    "def mean_reversion(data, window_size=50, threshold_factor=2):\n",
    "    # Calculate rolling mean and deviation\n",
    "    data['rolling_mean'] = data['mid_price'].rolling(window=window_size).mean()\n",
    "    data['deviation'] = data['mid_price'] - data['rolling_mean']\n",
    "    std_dev = data['deviation'].std()\n",
    "    threshold_deviation = threshold_factor * std_dev\n",
    "    \n",
    "    mean_reversion_signal = data['deviation'].abs() > threshold_deviation\n",
    "    return mean_reversion_signal\n",
    "\n",
    "# Function for Momentum Detection (Price Momentum)\n",
    "def momentum_detection(data, window_size=20, momentum_threshold=.5):\n",
    "    data['price_change'] = data['mid_price'].pct_change()\n",
    "    data['rolling_corr'] = data['price_change'].rolling(window=window_size).corr(data['price_change'].shift(1))\n",
    "    \n",
    "    momentum_signal = data['rolling_corr'] > momentum_threshold\n",
    "    return momentum_signal\n",
    "\n",
    "# Function for Bid-Ask Discrepancy (Market Depth)\n",
    "def bid_ask_discrepancy(data, spread_threshold=0.5):\n",
    "    data['bid_ask_spread'] = data['ask_price_1'] - data['bid_price_1']\n",
    "    large_spread_signal = data['bid_ask_spread'] > spread_threshold\n",
    "    return large_spread_signal\n"
   ]
  },
  {
   "cell_type": "code",
   "execution_count": 24,
   "id": "8904c39f",
   "metadata": {},
   "outputs": [],
   "source": [
    "def run_patterns_automatically(data):\n",
    "    # Run the pattern detection functions\n",
    "    buy_signal, sell_signal = liquidity_imbalance(data)\n",
    "    price_move_signal = price_impact(data)\n",
    "    mean_reversion_signal = mean_reversion(data)\n",
    "    momentum_signal = momentum_detection(data)\n",
    "    bid_ask_signal = bid_ask_discrepancy(data)\n",
    "    \n",
    "    # Combine results into a DataFrame to track results\n",
    "    results = pd.DataFrame({\n",
    "        'timestamp': data['timestamp'],\n",
    "        'buy_signal': buy_signal,\n",
    "        'sell_signal': sell_signal,\n",
    "        'price_move_signal': price_move_signal,\n",
    "        'mean_reversion_signal': mean_reversion_signal,\n",
    "        'momentum_signal': momentum_signal,\n",
    "        'bid_ask_signal': bid_ask_signal\n",
    "    })\n",
    "    \n",
    "    # Calculate likelihoods for each pattern\n",
    "    likelihoods = {\n",
    "        'buy_signal_likelihood': buy_signal.mean(),\n",
    "        'sell_signal_likelihood': sell_signal.mean(),\n",
    "        'price_move_likelihood': price_move_signal.mean(),\n",
    "        'mean_reversion_likelihood': mean_reversion_signal.mean(),\n",
    "        'momentum_likelihood': momentum_signal.mean(),\n",
    "        'bid_ask_likelihood': bid_ask_signal.mean()\n",
    "    }\n",
    "    \n",
    "    return results, likelihoods\n"
   ]
  },
  {
   "cell_type": "code",
   "execution_count": 25,
   "id": "6234e58f",
   "metadata": {},
   "outputs": [
    {
     "name": "stderr",
     "output_type": "stream",
     "text": [
      "C:\\Users\\tzs7ch\\AppData\\Local\\Temp\\ipykernel_23912\\1598260257.py:11: SettingWithCopyWarning: \n",
      "A value is trying to be set on a copy of a slice from a DataFrame.\n",
      "Try using .loc[row_indexer,col_indexer] = value instead\n",
      "\n",
      "See the caveats in the documentation: https://pandas.pydata.org/pandas-docs/stable/user_guide/indexing.html#returning-a-view-versus-a-copy\n",
      "  data['price_change'] = data['mid_price'].pct_change()\n",
      "C:\\Users\\tzs7ch\\AppData\\Local\\Temp\\ipykernel_23912\\1598260257.py:18: SettingWithCopyWarning: \n",
      "A value is trying to be set on a copy of a slice from a DataFrame.\n",
      "Try using .loc[row_indexer,col_indexer] = value instead\n",
      "\n",
      "See the caveats in the documentation: https://pandas.pydata.org/pandas-docs/stable/user_guide/indexing.html#returning-a-view-versus-a-copy\n",
      "  data['rolling_mean'] = data['mid_price'].rolling(window=window_size).mean()\n",
      "C:\\Users\\tzs7ch\\AppData\\Local\\Temp\\ipykernel_23912\\1598260257.py:19: SettingWithCopyWarning: \n",
      "A value is trying to be set on a copy of a slice from a DataFrame.\n",
      "Try using .loc[row_indexer,col_indexer] = value instead\n",
      "\n",
      "See the caveats in the documentation: https://pandas.pydata.org/pandas-docs/stable/user_guide/indexing.html#returning-a-view-versus-a-copy\n",
      "  data['deviation'] = data['mid_price'] - data['rolling_mean']\n",
      "C:\\Users\\tzs7ch\\AppData\\Local\\Temp\\ipykernel_23912\\1598260257.py:28: SettingWithCopyWarning: \n",
      "A value is trying to be set on a copy of a slice from a DataFrame.\n",
      "Try using .loc[row_indexer,col_indexer] = value instead\n",
      "\n",
      "See the caveats in the documentation: https://pandas.pydata.org/pandas-docs/stable/user_guide/indexing.html#returning-a-view-versus-a-copy\n",
      "  data['price_change'] = data['mid_price'].pct_change()\n",
      "C:\\Users\\tzs7ch\\AppData\\Local\\Temp\\ipykernel_23912\\1598260257.py:29: SettingWithCopyWarning: \n",
      "A value is trying to be set on a copy of a slice from a DataFrame.\n",
      "Try using .loc[row_indexer,col_indexer] = value instead\n",
      "\n",
      "See the caveats in the documentation: https://pandas.pydata.org/pandas-docs/stable/user_guide/indexing.html#returning-a-view-versus-a-copy\n",
      "  data['rolling_corr'] = data['price_change'].rolling(window=window_size).corr(data['price_change'].shift(1))\n",
      "C:\\Users\\tzs7ch\\AppData\\Local\\Temp\\ipykernel_23912\\1598260257.py:36: SettingWithCopyWarning: \n",
      "A value is trying to be set on a copy of a slice from a DataFrame.\n",
      "Try using .loc[row_indexer,col_indexer] = value instead\n",
      "\n",
      "See the caveats in the documentation: https://pandas.pydata.org/pandas-docs/stable/user_guide/indexing.html#returning-a-view-versus-a-copy\n",
      "  data['bid_ask_spread'] = data['ask_price_1'] - data['bid_price_1']\n"
     ]
    },
    {
     "data": {
      "text/plain": [
       "(       timestamp  buy_signal  sell_signal  price_move_signal  \\\n",
       " 2              0       False        False              False   \n",
       " 3            100       False         True              False   \n",
       " 7            200        True        False              False   \n",
       " 11           300       False        False              False   \n",
       " 14           400       False        False              False   \n",
       " ...          ...         ...          ...                ...   \n",
       " 29986     999500       False        False              False   \n",
       " 29990     999600       False        False              False   \n",
       " 29992     999700       False        False              False   \n",
       " 29994     999800        True        False              False   \n",
       " 29999     999900       False         True              False   \n",
       " \n",
       "        mean_reversion_signal  momentum_signal  bid_ask_signal  \n",
       " 2                      False            False            True  \n",
       " 3                      False            False            True  \n",
       " 7                      False            False            True  \n",
       " 11                     False            False            True  \n",
       " 14                     False            False            True  \n",
       " ...                      ...              ...             ...  \n",
       " 29986                  False            False            True  \n",
       " 29990                  False            False            True  \n",
       " 29992                  False            False            True  \n",
       " 29994                  False            False            True  \n",
       " 29999                  False            False            True  \n",
       " \n",
       " [10000 rows x 7 columns],\n",
       " {'buy_signal_likelihood': 0.2358,\n",
       "  'sell_signal_likelihood': 0.2013,\n",
       "  'price_move_likelihood': 0.0,\n",
       "  'mean_reversion_likelihood': 0.047,\n",
       "  'momentum_likelihood': 0.0006,\n",
       "  'bid_ask_likelihood': 1.0})"
      ]
     },
     "execution_count": 25,
     "metadata": {},
     "output_type": "execute_result"
    }
   ],
   "source": [
    "run_patterns_automatically(squid_ink_data)"
   ]
  },
  {
   "cell_type": "code",
   "execution_count": 38,
   "id": "274b73b0",
   "metadata": {},
   "outputs": [
    {
     "name": "stdout",
     "output_type": "stream",
     "text": [
      "Fitted parameters: mu = -386.5569197598138, theta = 0.1, sigma = 616.0061153299278\n"
     ]
    },
    {
     "name": "stderr",
     "output_type": "stream",
     "text": [
      "C:\\Users\\tzs7ch\\AppData\\Local\\Temp\\ipykernel_23912\\1322267571.py:15: RuntimeWarning: divide by zero encountered in log\n",
      "  ll = -0.5 * n * np.log(2 * np.pi * sigma**2)\n",
      "C:\\Users\\tzs7ch\\AppData\\Local\\Temp\\ipykernel_23912\\1322267571.py:16: RuntimeWarning: divide by zero encountered in true_divide\n",
      "  ll -= 0.5 * np.sum((r - mu) ** 2 / sigma**2)\n",
      "C:\\Users\\tzs7ch\\AppData\\Local\\Temp\\ipykernel_23912\\1322267571.py:16: RuntimeWarning: invalid value encountered in double_scalars\n",
      "  ll -= 0.5 * np.sum((r - mu) ** 2 / sigma**2)\n",
      "C:\\Users\\tzs7ch\\AppData\\Local\\Temp\\ipykernel_23912\\1322267571.py:17: RuntimeWarning: divide by zero encountered in double_scalars\n",
      "  ll -= 0.5 * np.sum(np.log(1 + (theta**2) / sigma**2))  # term accounting for mean reversion\n"
     ]
    }
   ],
   "source": [
    "import numpy as np\n",
    "import pandas as pd\n",
    "import scipy.optimize as opt\n",
    "\n",
    "# Load price series (example with a pandas DataFrame 'price_series')\n",
    "# Replace with your actual data\n",
    "price_series = squid_ink_data['mid_price']\n",
    "# Step 1: Calculate log-returns\n",
    "log_returns = np.log(price_series[1:].values / price_series[:-1].values)\n",
    "\n",
    "# Step 2: Define the likelihood function for the OU process\n",
    "def ou_log_likelihood(params, r):\n",
    "    mu, theta, sigma = params\n",
    "    n = len(r)\n",
    "    ll = -0.5 * n * np.log(2 * np.pi * sigma**2)\n",
    "    ll -= 0.5 * np.sum((r - mu) ** 2 / sigma**2)\n",
    "    ll -= 0.5 * np.sum(np.log(1 + (theta**2) / sigma**2))  # term accounting for mean reversion\n",
    "    return -ll  # return negative log-likelihood for minimization\n",
    "\n",
    "# Step 3: Estimate parameters using MLE\n",
    "initial_guess = [2000, 0.1, 20]  # initial guess for mu, theta, sigma\n",
    "result = opt.minimize(ou_log_likelihood, initial_guess, args=(log_returns,), bounds=[(-np.inf, np.inf), (0, np.inf), (0, np.inf)])\n",
    "\n",
    "# Step 4: Extract fitted parameters\n",
    "mu_fitted, theta_fitted, sigma_fitted = result.x\n",
    "print(f\"Fitted parameters: mu = {mu_fitted}, theta = {theta_fitted}, sigma = {sigma_fitted}\")\n",
    "\n",
    "# You can now use these parameters to simulate future price movements or perform predictions.\n"
   ]
  },
  {
   "cell_type": "code",
   "execution_count": 41,
   "id": "24c97e75",
   "metadata": {},
   "outputs": [
    {
     "data": {
      "image/png": "[encoded data removed]",
      "text/plain": [
       "<Figure size 640x480 with 1 Axes>"
      ]
     },
     "metadata": {},
     "output_type": "display_data"
    }
   ],
   "source": [
    "# Simulate future price path using fitted OU process parameters\n",
    "def simulate_ou(mu, theta, sigma, X0, T, dt=1/252, steps=252):\n",
    "    X = np.zeros(steps)\n",
    "    X[0] = X0\n",
    "    for t in range(1, steps):\n",
    "        epsilon = np.random.normal(0, 1)\n",
    "        X[t] = X[t-1] + theta * (mu - X[t-1]) * dt + sigma * np.sqrt(dt) * epsilon\n",
    "    return X\n",
    "\n",
    "# Example: Simulate future prices\n",
    "simulated_prices = simulate_ou(mu_fitted, theta_fitted, sigma_fitted, price_series.iloc[-1], T=1)\n",
    "\n",
    "# Plot the simulated future prices\n",
    "plt.plot(simulated_prices)\n",
    "plt.title(\"Simulated OU Process for Stock Prices\")\n",
    "plt.xlabel(\"Time Steps\")\n",
    "plt.ylabel(\"Price\")\n",
    "plt.show()\n"
   ]
  },
  {
   "cell_type": "code",
   "execution_count": 42,
   "id": "5b3dcb9f",
   "metadata": {},
   "outputs": [
    {
     "ename": "NameError",
     "evalue": "name 'X0' is not defined",
     "output_type": "error",
     "traceback": [
      "\u001b[1;31m---------------------------------------------------------------------------\u001b[0m",
      "\u001b[1;31mNameError\u001b[0m                                 Traceback (most recent call last)",
      "\u001b[1;32m~\\AppData\\Local\\Temp\\ipykernel_23912\\1754345119.py\u001b[0m in \u001b[0;36m<cell line: 10>\u001b[1;34m()\u001b[0m\n\u001b[0;32m      8\u001b[0m \u001b[1;33m\u001b[0m\u001b[0m\n\u001b[0;32m      9\u001b[0m \u001b[1;31m# Predict future prices for multiple time steps\u001b[0m\u001b[1;33m\u001b[0m\u001b[1;33m\u001b[0m\u001b[0m\n\u001b[1;32m---> 10\u001b[1;33m \u001b[0mpredicted_prices\u001b[0m \u001b[1;33m=\u001b[0m \u001b[0mpredict_ou\u001b[0m\u001b[1;33m(\u001b[0m\u001b[0mmu_fitted\u001b[0m\u001b[1;33m,\u001b[0m \u001b[0mtheta_fitted\u001b[0m\u001b[1;33m,\u001b[0m \u001b[0msigma_fitted\u001b[0m\u001b[1;33m,\u001b[0m \u001b[0mX0\u001b[0m\u001b[1;33m,\u001b[0m \u001b[0mT\u001b[0m\u001b[1;33m)\u001b[0m\u001b[1;33m\u001b[0m\u001b[1;33m\u001b[0m\u001b[0m\n\u001b[0m",
      "\u001b[1;31mNameError\u001b[0m: name 'X0' is not defined"
     ]
    }
   ],
   "source": [
    "def predict_ou(mu, theta, sigma, X0, T, dt=1/252, steps=252):\n",
    "    X = np.zeros(steps)\n",
    "    X[0] = X0\n",
    "    for t in range(1, steps):\n",
    "        # Compute expected price using OU process mean reversion\n",
    "        X[t] = X[t-1] + theta * (mu - X[t-1]) * dt\n",
    "    return X\n",
    "\n",
    "# Predict future prices for multiple time steps\n",
    "predicted_prices = predict_ou(mu_fitted, theta_fitted, sigma_fitted, X0, T)"
   ]
  },
  {
   "cell_type": "code",
   "execution_count": null,
   "id": "05797f98",
   "metadata": {},
   "outputs": [],
   "source": []
  }
 ],
 "metadata": {
  "kernelspec": {
   "display_name": "Python 3 (ipykernel)",
   "language": "python",
   "name": "python3"
  },
  "language_info": {
   "codemirror_mode": {
    "name": "ipython",
    "version": 3
   },
   "file_extension": ".py",
   "mimetype": "text/x-python",
   "name": "python",
   "nbconvert_exporter": "python",
   "pygments_lexer": "ipython3",
   "version": "3.9.16"
  }
 },
 "nbformat": 4,
 "nbformat_minor": 5
}
